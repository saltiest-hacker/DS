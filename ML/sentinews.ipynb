{
 "metadata": {
  "language_info": {
   "codemirror_mode": {
    "name": "ipython",
    "version": 3
   },
   "file_extension": ".py",
   "mimetype": "text/x-python",
   "name": "python",
   "nbconvert_exporter": "python",
   "pygments_lexer": "ipython3",
   "version": "3.7.7-final"
  },
  "orig_nbformat": 2,
  "kernelspec": {
   "name": "python37764bitlambdaconda0fd89f066e574d87bb9fc614dcb859b8",
   "display_name": "Python 3.7.7 64-bit ('lambda': conda)"
  }
 },
 "nbformat": 4,
 "nbformat_minor": 2,
 "cells": [
  {
   "cell_type": "code",
   "execution_count": 1,
   "metadata": {
    "tags": []
   },
   "outputs": [
    {
     "output_type": "stream",
     "name": "stderr",
     "text": "Using TensorFlow backend.\n"
    }
   ],
   "source": [
    "import pandas as pd\n",
    "import nltk as nltk\n",
    "import sklearn\n",
    "from sklearn import *\n",
    "from sklearn.model_selection import train_test_split\n",
    "from sklearn.feature_extraction.text import CountVectorizer, TfidfTransformer\n",
    "from sklearn.linear_model import SGDClassifier\n",
    "from sklearn.pipeline import Pipeline\n",
    "from sklearn.tree import DecisionTreeRegressor\n",
    "import tensorflow as tf\n",
    "import keras\n",
    "import tensorflow as tf\n",
    "\n",
    "from tensorflow import keras\n",
    "from tensorflow.keras import layers\n",
    "from nltk.classify import NaiveBayesClassifier\n",
    "from nltk.corpus import subjectivity\n",
    "from nltk.sentiment import SentimentAnalyzer,SentimentIntensityAnalyzer\n",
    "from nltk.sentiment.util import *\n",
    "from nltk import tokenize\n",
    "import numpy as np\n",
    "import html\n",
    "import re\n",
    "pd.set_option(\n",
    "    'display.max_colwidth', 0\n",
    ")\n",
    "np.random.seed(42)"
   ]
  },
  {
   "cell_type": "code",
   "execution_count": 2,
   "metadata": {
    "tags": []
   },
   "outputs": [],
   "source": [
    "df = pd.read_csv('hacker_news_sample.csv',nrows=100000)\n"
   ]
  },
  {
   "cell_type": "code",
   "execution_count": 4,
   "metadata": {},
   "outputs": [
    {
     "output_type": "execute_result",
     "data": {
      "text/plain": "                                                                                                                                                                                                                                                                                                                                        \n42  Borland WebBuilder.                                                                                                                                                                                                                                                                                                                                                                                                                                                                                                                                                                                                                                                                                                                                                                                                                                                                                                                                                                                                                                                                                                                                                                                                                                                                                                                                                                                                                                                                                                                                                                                                                   \n43  Define &#x27;virtual&#x27; please.                                                                                                                                                                                                                                                                                                                                                                                                                                                                                                                                                                                                                                                                                                                                                                                                                                                                                                                                                                                                                                                                                                                                                                                                                                                                                                                                                                                                                                                                                                                                                                                                    \n44  <p><pre><code>  It is not the critic who counts;\\n  not the man who points out how the strong man stumbles\\n  or where the doer of deeds could have done them better.\\n  The credit belongs to the man who is actually in the arena\\n  whose face is marred by dust and sweat and blood;\\n  who strives valiantly; who errs\\n  who comes short again and again\\n  because there is no effort without error and shortcoming;\\n  but who does actually strive to do the deeds;\\n  who knows great enthusiasms\\n  the great devotions;\\n  who spends himself in a worthy cause;\\n  who at the best knows in the end the triumph of high achievement\\n  and who at the worst\\n  if he fails\\n  at least fails while daring greatly\\n  so that his place shall never be with those cold and timid souls who neither know victory nor defeat.\\n</code></pre>\\n<a href=\"https:&#x2F;&#x2F;en.wikipedia.org&#x2F;wiki&#x2F;Citizenship_in_a_Republic\" rel=\"nofollow\">https:&#x2F;&#x2F;en.wikipedia.org&#x2F;wiki&#x2F;Citizenship_in_a_Republic</a>                                                                                                                                                                                                                                                                                                                                                                                                                                                                                                                                                                                          \n45  Hrmmm...I&#x27;ve only ever seen studies that claim daydreaming is an important part of creativity learning and mental health.                                                                                                                                                                                                                                                                                                                                                                                                                                                                                                                                                                                                                                                                                                                                                                                                                                                                                                                                                                                                                                                                                                                                                                                                                                                                                                                                                                                                                                                                                                        \n46  NaN                                                                                                                                                                                                                                                                                                                                                                                                                                                                                                                                                                                                                                                                                                                                                                                                                                                                                                                                                                                                                                                                                                                                                                                                                                                                                                                                                                                                                                                                                                                                                                                                                                   \n47  This is essentially ParAccel as a service. So it is one of those data warehouse vendors. As to the pricing as always it isn't so straightforward -- it's $999 per TB a year if you pay $3000 upfront and then another $1000 for a single very weak database server.                                                                                                                                                                                                                                                                                                                                                                                                                                                                                                                                                                                                                                                                                                                                                                                                                                                                                                                                                                                                                                                                                                                                                                                                                                                                                                                                                                   \n48  NaN                                                                                                                                                                                                                                                                                                                                                                                                                                                                                                                                                                                                                                                                                                                                                                                                                                                                                                                                                                                                                                                                                                                                                                                                                                                                                                                                                                                                                                                                                                                                                                                                                                   \n49  The part about the battery is very interesting! I googled it and couldn&#x27;t find any more information though... do you have any links?                                                                                                                                                                                                                                                                                                                                                                                                                                                                                                                                                                                                                                                                                                                                                                                                                                                                                                                                                                                                                                                                                                                                                                                                                                                                                                                                                                                                                                                                                             \n\n    dead               by  score          time     type        id      parent  \\\n0   NaN   coldtea         NaN     1.390844e+09  comment  7131680   7127578.0    \n1   NaN   etanol          NaN     1.319396e+09  comment  3146879   3145330.0    \n2   NaN   NaN             NaN     1.456641e+09  comment  11190089  11189361.0   \n3   NaN   Locke1689       NaN     1.407882e+09  comment  8170491   8170071.0    \n4   NaN   miloshadzic     NaN     1.362573e+09  comment  5330773   5327590.0    \n5   NaN   salsakran       NaN     1.302988e+09  comment  2454827   2452073.0    \n6   NaN   deepblueocean    2.0    1.395179e+09  story    7425232  NaN           \n7   NaN   tudorw           1.0    1.353326e+09  story    4803967  NaN           \n8   NaN   mirandak4        2.0    1.478268e+09  story    12872547 NaN           \n9   NaN   paulsutter      NaN     1.467500e+09  comment  12024085  12023632.0   \n10  NaN   sitkack         NaN     1.398706e+09  comment  7661504   7661268.0    \n11  True  cjsthompson     NaN     1.448732e+09  comment  10641694  10641458.0   \n12  NaN   evgen           NaN     1.495398e+09  comment  14389061  14385039.0   \n13  NaN   adventured      NaN     1.360209e+09  comment  5180426   5180196.0    \n14  NaN   jhanschoo       NaN     1.453802e+09  comment  10972639  10967607.0   \n15  NaN   greggman        NaN     1.446247e+09  comment  10481148  10476753.0   \n16  NaN   NaN             NaN     1.466136e+09  comment  11920638  11920160.0   \n17  NaN   sinak            1.0    1.424800e+09  story    9102174  NaN           \n18  NaN   lobster_johnson NaN     1.482011e+09  comment  13202822  13200461.0   \n19  NaN   shrimp_emoji    NaN     1.492697e+09  comment  14156673  14156630.0   \n20  NaN   ohjeez           2.0    1.465071e+09  story    11837795 NaN           \n21  NaN   cturner         NaN     1.273330e+09  comment  1330233   1330172.0    \n22  NaN   quile            2.0    1.292524e+09  story    2013046  NaN           \n23  NaN   idlewords       NaN     1.251979e+09  comment  802237    802210.0     \n24  NaN   eru             NaN     1.324105e+09  comment  3363666   3363415.0    \n25  NaN   pawadu          NaN     1.480063e+09  comment  13035119  13028978.0   \n26  NaN   napierzaza      NaN     1.305989e+09  comment  2570935   2570448.0    \n27  NaN   tdicola         NaN     1.421178e+09  comment  8881997   8881887.0    \n28  NaN   GICodeWarrior   NaN     1.328753e+09  comment  3569485   3569041.0    \n29  NaN   cloudrail       NaN     1.412951e+09  comment  8437821   8437597.0    \n30  NaN   zoidb           NaN     1.479217e+09  comment  12957773  12957603.0   \n31  NaN   whatshisface    NaN     1.363712e+09  comment  5401973   5400552.0    \n32  NaN   carlos          NaN     1.285861e+09  comment  1743571   1743545.0    \n33  NaN   remx             1.0    1.494859e+09  story    14341934 NaN           \n34  NaN   consciousness   NaN     1.376943e+09  comment  6239471   6239393.0    \n35  True  bobcoat         NaN     1.426262e+09  comment  9197770   9197687.0    \n36  NaN   fao_            NaN     1.463527e+09  comment  11718460  11713332.0   \n37  NaN   mectors          1.0    1.460551e+09  story    11487579 NaN           \n38  NaN   drgath          NaN     1.379363e+09  comment  6395652   6394686.0    \n39  NaN   diminoten       NaN     1.409844e+09  comment  8268785   8268756.0    \n40  NaN   noway421        NaN     1.496639e+09  comment  14485349  14463599.0   \n41  NaN   PaDuerriel      NaN     1.446888e+09  comment  10524246  10517308.0   \n42  NaN   jacquesm        NaN     1.449449e+09  comment  10687435  10687054.0   \n43  True  dschiptsov      NaN     1.480704e+09  comment  13091096  13090539.0   \n44  NaN   jncraton        NaN     1.497710e+09  comment  14576058  14574926.0   \n45  NaN   nomel           NaN     1.430634e+09  comment  9480247   9478674.0    \n46  NaN   paganinip        1.0    1.433430e+09  story    9659734  NaN           \n47  True  huggyface       NaN     1.354128e+09  comment  4843950   4843936.0    \n48  NaN   djsumdog         1.0    1.476833e+09  story    12739615 NaN           \n49  NaN   jamescostian    NaN     1.496359e+09  comment  14465865  14465850.0   \n\n    descendants  ranking deleted             timestamp  \n0  NaN          NaN       NaN     2014-01-27T17:31:13Z  \n1  NaN          NaN       NaN     2011-10-23T18:46:40Z  \n2  NaN          NaN       True    2016-02-28T06:26:56Z  \n3  NaN          NaN       NaN     2014-08-12T22:13:10Z  \n4  NaN          NaN       NaN     2013-03-06T12:28:02Z  \n5  NaN          NaN       NaN     2011-04-16T21:04:23Z  \n6   0.0         NaN       NaN     2014-03-18T21:44:46Z  \n7   0.0         NaN       NaN     2012-11-19T11:54:38Z  \n8   0.0         NaN       NaN     2016-11-04T13:55:30Z  \n9  NaN          NaN       NaN     2016-07-02T22:54:47Z  \n10 NaN          NaN       NaN     2014-04-28T17:32:18Z  \n11 NaN          NaN       NaN     2015-11-28T17:33:59Z  \n12 NaN          NaN       NaN     2017-05-21T20:22:42Z  \n13 NaN          NaN       NaN     2013-02-07T03:52:02Z  \n14 NaN          NaN       NaN     2016-01-26T09:53:32Z  \n15 NaN          NaN       NaN     2015-10-30T23:24:42Z  \n16 NaN          NaN       True    2016-06-17T04:06:35Z  \n17  0.0         NaN       NaN     2015-02-24T17:42:09Z  \n18 NaN          NaN       NaN     2016-12-17T21:41:48Z  \n19 NaN          NaN       NaN     2017-04-20T14:02:19Z  \n20  0.0         NaN       NaN     2016-06-04T20:16:27Z  \n21 NaN          NaN       NaN     2010-05-08T14:47:52Z  \n22  0.0         NaN       NaN     2010-12-16T18:27:09Z  \n23 NaN          NaN       NaN     2009-09-03T11:55:09Z  \n24 NaN          NaN       NaN     2011-12-17T06:58:06Z  \n25 NaN          NaN       NaN     2016-11-25T08:37:06Z  \n26 NaN          NaN       NaN     2011-05-21T14:40:31Z  \n27 NaN          NaN       NaN     2015-01-13T19:36:52Z  \n28 NaN          NaN       NaN     2012-02-09T02:07:26Z  \n29 NaN          NaN       NaN     2014-10-10T14:23:26Z  \n30 NaN          NaN       NaN     2016-11-15T13:30:04Z  \n31 NaN          NaN       NaN     2013-03-19T16:45:08Z  \n32 NaN          NaN       NaN     2010-09-30T15:31:41Z  \n33  0.0         NaN       NaN     2017-05-15T14:43:38Z  \n34 NaN          NaN       NaN     2013-08-19T20:11:32Z  \n35 NaN          NaN       NaN     2015-03-13T15:51:15Z  \n36 NaN          NaN       NaN     2016-05-17T23:24:58Z  \n37  0.0         NaN       NaN     2016-04-13T12:33:15Z  \n38 NaN          NaN       NaN     2013-09-16T20:24:09Z  \n39 NaN          NaN       NaN     2014-09-04T15:25:18Z  \n40 NaN          NaN       NaN     2017-06-05T05:02:13Z  \n41 NaN          NaN       NaN     2015-11-07T09:14:11Z  \n42 NaN          NaN       NaN     2015-12-07T00:38:44Z  \n43 NaN          NaN       NaN     2016-12-02T18:40:01Z  \n44 NaN          NaN       NaN     2017-06-17T14:35:20Z  \n45 NaN          NaN       NaN     2015-05-03T06:25:45Z  \n46  0.0         NaN       NaN     2015-06-04T15:04:10Z  \n47 NaN          NaN       NaN     2012-11-28T18:35:02Z  \n48  0.0         NaN       NaN     2016-10-18T23:18:34Z  \n49 NaN          NaN       NaN     2017-06-01T23:20:05Z  ",
      "text/html": "<div>\n<style scoped>\n    .dataframe tbody tr th:only-of-type {\n        vertical-align: middle;\n    }\n\n    .dataframe tbody tr th {\n        vertical-align: top;\n    }\n\n    .dataframe thead th {\n        text-align: right;\n    }\n</style>\n<table border=\"1\" class=\"dataframe\">\n  <thead>\n    <tr style=\"text-align: right;\">\n      <th></th>\n      <th>title</th>\n      <th>url</th>\n      <th>text</th>\n      <th>dead</th>\n      <th>by</th>\n      <th>score</th>\n      <th>time</th>\n      <th>type</th>\n      <th>id</th>\n      <th>parent</th>\n      <th>descendants</th>\n      <th>ranking</th>\n      <th>deleted</th>\n      <th>timestamp</th>\n    </tr>\n  </thead>\n  <tbody>\n    <tr>\n      <th>0</th>\n      <td>NaN</td>\n      <td>NaN</td>\n      <td>&amp;gt;&lt;i&gt;which leads me to say why are you using C to do X?&lt;/i&gt;&lt;p&gt;Because they know C it&amp;#x27;s fast and it has lots of libs available. They might also dislike Java or CL.&lt;p&gt;Not every engineering decision is perfect lots of factors play in.&lt;p&gt;&amp;gt;&lt;i&gt;Attempts to combine the best of C (speed) with the best of scripting languages (easy to do things fast without having to pay attention to what you are doing) in my opinion end up merely joining the worst of both worlds rather than the best of both worlds.&lt;/i&gt;&lt;p&gt;The &amp;quot;pay attention&amp;quot; things is to needless complexity (memory management etc). They only reason we put up with those things was to get speed. If we can get adequate speed without those nobody cares about them.&lt;p&gt;&amp;gt;&lt;i&gt;Besides isn&amp;#x27;t programming about being specific? Do you really want to code stuff without having to worry about the details?&lt;/i&gt;&lt;p&gt;No programming is about getting results. Nobody cares about the details in the level of programming language minutuae.&lt;p&gt;We care about the &amp;quot;effort put in&amp;quot; and &amp;quot;quality&amp;#x2F;speed of results coming out&amp;quot; ratio.</td>\n      <td>NaN</td>\n      <td>coldtea</td>\n      <td>NaN</td>\n      <td>1.390844e+09</td>\n      <td>comment</td>\n      <td>7131680</td>\n      <td>7127578.0</td>\n      <td>NaN</td>\n      <td>NaN</td>\n      <td>NaN</td>\n      <td>2014-01-27T17:31:13Z</td>\n    </tr>\n    <tr>\n      <th>1</th>\n      <td>NaN</td>\n      <td>NaN</td>\n      <td>I would like to point out some counter-examples:&lt;p&gt;«&lt;i&gt;Think of journalists. Many are losing their jobs. Newspapers are barely surviving. In the old days for every news event there were probably hundreds of journalists writing about the same story for their own local newspapers. Now because of the efficiency of the Internet and search engines a few journalists writing about it would suffice for the whole country. People would be able to find them. There is no reason why hundreds of newspapers should write and publish their own versions of the same story.&lt;/i&gt;»&lt;p&gt;And yet you can still find incompetent people.  I've read so many inaccuracies grammar and typographic mistakes from information &lt;i&gt;professionals&lt;/i&gt; (apparently) that makes me wonder if the price to pay for such efficiency is too high.  And I'm talking as a consumer information consumer.&lt;p&gt;«&lt;i&gt;Corporations are increasingly getting bigger (in terms of market caps) more global and more powerful yet they are getting smaller and smaller in terms of the number of people they employ because they have mastered the art of efficiency.&lt;/i&gt;»&lt;p&gt;Okay take IKEA for example.  IKEA sells furniture and other home accessories world wide and everywhere you can find the same model.  However how many people do they employ on each store?  A hundred?  I don't know but I'm under the impression that is not a shrinking number.  And IKEA is a particularly good example because it's expansion model is not based on a franchise like fast food restaurants.&lt;p&gt;Of course I might not understood the intention of the author.</td>\n      <td>NaN</td>\n      <td>etanol</td>\n      <td>NaN</td>\n      <td>1.319396e+09</td>\n      <td>comment</td>\n      <td>3146879</td>\n      <td>3145330.0</td>\n      <td>NaN</td>\n      <td>NaN</td>\n      <td>NaN</td>\n      <td>2011-10-23T18:46:40Z</td>\n    </tr>\n    <tr>\n      <th>2</th>\n      <td>NaN</td>\n      <td>NaN</td>\n      <td>NaN</td>\n      <td>NaN</td>\n      <td>NaN</td>\n      <td>NaN</td>\n      <td>1.456641e+09</td>\n      <td>comment</td>\n      <td>11190089</td>\n      <td>11189361.0</td>\n      <td>NaN</td>\n      <td>NaN</td>\n      <td>True</td>\n      <td>2016-02-28T06:26:56Z</td>\n    </tr>\n    <tr>\n      <th>3</th>\n      <td>NaN</td>\n      <td>NaN</td>\n      <td>&lt;i&gt;Our msbuild implementation can now build Project K and Roslyn&lt;/i&gt;&lt;p&gt;Wow. Really impressive -- our MSBuild hackery is gut-wrenching.</td>\n      <td>NaN</td>\n      <td>Locke1689</td>\n      <td>NaN</td>\n      <td>1.407882e+09</td>\n      <td>comment</td>\n      <td>8170491</td>\n      <td>8170071.0</td>\n      <td>NaN</td>\n      <td>NaN</td>\n      <td>NaN</td>\n      <td>2014-08-12T22:13:10Z</td>\n    </tr>\n    <tr>\n      <th>4</th>\n      <td>NaN</td>\n      <td>NaN</td>\n      <td>No matter how awful iPhoto is it's still better than almost anything you can find on Linux. I know because that was one of my biggest gripes while I was using Ubuntu up to about 5 months ago.&lt;p&gt;And it's not about how Macs just work it's that you have apps for almost anything that actually work.</td>\n      <td>NaN</td>\n      <td>miloshadzic</td>\n      <td>NaN</td>\n      <td>1.362573e+09</td>\n      <td>comment</td>\n      <td>5330773</td>\n      <td>5327590.0</td>\n      <td>NaN</td>\n      <td>NaN</td>\n      <td>NaN</td>\n      <td>2013-03-06T12:28:02Z</td>\n    </tr>\n    <tr>\n      <th>5</th>\n      <td>NaN</td>\n      <td>NaN</td>\n      <td>The existence of a way to shard searches doesn't make scaling real time search on email (hint: do some back of the envelope calculation on how much data that involves) a non-issue.</td>\n      <td>NaN</td>\n      <td>salsakran</td>\n      <td>NaN</td>\n      <td>1.302988e+09</td>\n      <td>comment</td>\n      <td>2454827</td>\n      <td>2452073.0</td>\n      <td>NaN</td>\n      <td>NaN</td>\n      <td>NaN</td>\n      <td>2011-04-16T21:04:23Z</td>\n    </tr>\n    <tr>\n      <th>6</th>\n      <td>#McConnelling</td>\n      <td>http://www.mcconnelling.org/</td>\n      <td>NaN</td>\n      <td>NaN</td>\n      <td>deepblueocean</td>\n      <td>2.0</td>\n      <td>1.395179e+09</td>\n      <td>story</td>\n      <td>7425232</td>\n      <td>NaN</td>\n      <td>0.0</td>\n      <td>NaN</td>\n      <td>NaN</td>\n      <td>2014-03-18T21:44:46Z</td>\n    </tr>\n    <tr>\n      <th>7</th>\n      <td>A floating self-sustaining home that would respond to rising sea levels</td>\n      <td>http://www.kickstarter.com/projects/whim/recycled-island</td>\n      <td>NaN</td>\n      <td>NaN</td>\n      <td>tudorw</td>\n      <td>1.0</td>\n      <td>1.353326e+09</td>\n      <td>story</td>\n      <td>4803967</td>\n      <td>NaN</td>\n      <td>0.0</td>\n      <td>NaN</td>\n      <td>NaN</td>\n      <td>2012-11-19T11:54:38Z</td>\n    </tr>\n    <tr>\n      <th>8</th>\n      <td>What Ever Happened to Facebook's Rooms?</td>\n      <td>https://backchannel.com/when-facebook-cleared-out-thousands-of-rooms-ee42a4154b33#.hpgimx9i1</td>\n      <td>NaN</td>\n      <td>NaN</td>\n      <td>mirandak4</td>\n      <td>2.0</td>\n      <td>1.478268e+09</td>\n      <td>story</td>\n      <td>12872547</td>\n      <td>NaN</td>\n      <td>0.0</td>\n      <td>NaN</td>\n      <td>NaN</td>\n      <td>2016-11-04T13:55:30Z</td>\n    </tr>\n    <tr>\n      <th>9</th>\n      <td>NaN</td>\n      <td>NaN</td>\n      <td>The actual Internet of things is Tesla collecting 130 million miles of autopilot data to make autopilot safer. It&amp;#x27;s GE collecting data from the jet engines they produce to understand failures and do predictive maintenance. It&amp;#x27;s Netapp collecting error logs from fileservers in the field so they know how to prioritize their bug database which performance bottlenecks to fix and what limitations actual customers encounter.&lt;p&gt;That&amp;#x27;s the real internet of things. Just ignore all the (hype for) idiotic connected home crap covered by the popular press. Yes vendors are producing these products but the only feature I want is a a global disable for any such thing I accidentally bring into my home.</td>\n      <td>NaN</td>\n      <td>paulsutter</td>\n      <td>NaN</td>\n      <td>1.467500e+09</td>\n      <td>comment</td>\n      <td>12024085</td>\n      <td>12023632.0</td>\n      <td>NaN</td>\n      <td>NaN</td>\n      <td>NaN</td>\n      <td>2016-07-02T22:54:47Z</td>\n    </tr>\n    <tr>\n      <th>10</th>\n      <td>NaN</td>\n      <td>NaN</td>\n      <td>I want to know how ants got into a sealed bag of brown sugar when I can&amp;#x27;t.</td>\n      <td>NaN</td>\n      <td>sitkack</td>\n      <td>NaN</td>\n      <td>1.398706e+09</td>\n      <td>comment</td>\n      <td>7661504</td>\n      <td>7661268.0</td>\n      <td>NaN</td>\n      <td>NaN</td>\n      <td>NaN</td>\n      <td>2014-04-28T17:32:18Z</td>\n    </tr>\n    <tr>\n      <th>11</th>\n      <td>NaN</td>\n      <td>NaN</td>\n      <td>French is supremely broken. It makes no fucking sense as it&amp;#x27;s influences are too varied. Which makes it great for poetry perhaps but not much else.</td>\n      <td>True</td>\n      <td>cjsthompson</td>\n      <td>NaN</td>\n      <td>1.448732e+09</td>\n      <td>comment</td>\n      <td>10641694</td>\n      <td>10641458.0</td>\n      <td>NaN</td>\n      <td>NaN</td>\n      <td>NaN</td>\n      <td>2015-11-28T17:33:59Z</td>\n    </tr>\n    <tr>\n      <th>12</th>\n      <td>NaN</td>\n      <td>NaN</td>\n      <td>I actually went from Things to OmniFocus and am currently using a somewhat hacked collection of Todoist Asana &amp;amp; IFTTT.</td>\n      <td>NaN</td>\n      <td>evgen</td>\n      <td>NaN</td>\n      <td>1.495398e+09</td>\n      <td>comment</td>\n      <td>14389061</td>\n      <td>14385039.0</td>\n      <td>NaN</td>\n      <td>NaN</td>\n      <td>NaN</td>\n      <td>2017-05-21T20:22:42Z</td>\n    </tr>\n    <tr>\n      <th>13</th>\n      <td>NaN</td>\n      <td>NaN</td>\n      <td>First impression after spending some time on try.discourse.org --- it's very messy.&lt;p&gt;The mess that online forums have been seemingly since forever should be reduced not continued with snazzier implementation.</td>\n      <td>NaN</td>\n      <td>adventured</td>\n      <td>NaN</td>\n      <td>1.360209e+09</td>\n      <td>comment</td>\n      <td>5180426</td>\n      <td>5180196.0</td>\n      <td>NaN</td>\n      <td>NaN</td>\n      <td>NaN</td>\n      <td>2013-02-07T03:52:02Z</td>\n    </tr>\n    <tr>\n      <th>14</th>\n      <td>NaN</td>\n      <td>NaN</td>\n      <td>It&amp;#x27;s not exactly true that startups that have no desire to innovate provide a negative or zero value to their industry. In competitive strategy a small company that threatens to take a slice of the market of a large monopolistic company is good persuation for the monopolistic company to innovate.</td>\n      <td>NaN</td>\n      <td>jhanschoo</td>\n      <td>NaN</td>\n      <td>1.453802e+09</td>\n      <td>comment</td>\n      <td>10972639</td>\n      <td>10967607.0</td>\n      <td>NaN</td>\n      <td>NaN</td>\n      <td>NaN</td>\n      <td>2016-01-26T09:53:32Z</td>\n    </tr>\n    <tr>\n      <th>15</th>\n      <td>NaN</td>\n      <td>NaN</td>\n      <td>Thanks. I choose meteor because I thought it would let me get something up quickly but I&amp;#x27;m still learning how to make it behave.&lt;p&gt;I think that&amp;#x27;s fixed now .. for some definition of fixed</td>\n      <td>NaN</td>\n      <td>greggman</td>\n      <td>NaN</td>\n      <td>1.446247e+09</td>\n      <td>comment</td>\n      <td>10481148</td>\n      <td>10476753.0</td>\n      <td>NaN</td>\n      <td>NaN</td>\n      <td>NaN</td>\n      <td>2015-10-30T23:24:42Z</td>\n    </tr>\n    <tr>\n      <th>16</th>\n      <td>NaN</td>\n      <td>NaN</td>\n      <td>NaN</td>\n      <td>NaN</td>\n      <td>NaN</td>\n      <td>NaN</td>\n      <td>1.466136e+09</td>\n      <td>comment</td>\n      <td>11920638</td>\n      <td>11920160.0</td>\n      <td>NaN</td>\n      <td>NaN</td>\n      <td>True</td>\n      <td>2016-06-17T04:06:35Z</td>\n    </tr>\n    <tr>\n      <th>17</th>\n      <td>Epic Privacy Browser a more secure and private chromium-based web browser</td>\n      <td>https://www.epicbrowser.com</td>\n      <td>NaN</td>\n      <td>NaN</td>\n      <td>sinak</td>\n      <td>1.0</td>\n      <td>1.424800e+09</td>\n      <td>story</td>\n      <td>9102174</td>\n      <td>NaN</td>\n      <td>0.0</td>\n      <td>NaN</td>\n      <td>NaN</td>\n      <td>2015-02-24T17:42:09Z</td>\n    </tr>\n    <tr>\n      <th>18</th>\n      <td>NaN</td>\n      <td>NaN</td>\n      <td>I used Sybase ASE on Linux in the early 2000s. It was a joy to use back then. Same dialect of SQL as Microsoft SQL Server easy to set up and work with.&lt;p&gt;Microsoft SQL Server has since diverged to the point of being a completely different codebase whereas Sybase stagnated and were acquired by SAP.</td>\n      <td>NaN</td>\n      <td>lobster_johnson</td>\n      <td>NaN</td>\n      <td>1.482011e+09</td>\n      <td>comment</td>\n      <td>13202822</td>\n      <td>13200461.0</td>\n      <td>NaN</td>\n      <td>NaN</td>\n      <td>NaN</td>\n      <td>2016-12-17T21:41:48Z</td>\n    </tr>\n    <tr>\n      <th>19</th>\n      <td>NaN</td>\n      <td>NaN</td>\n      <td>&amp;gt;They&amp;#x27;ve been tried elsewhere and they usually work out pretty well.&lt;p&gt;To which one are you referring China or North Korea?</td>\n      <td>NaN</td>\n      <td>shrimp_emoji</td>\n      <td>NaN</td>\n      <td>1.492697e+09</td>\n      <td>comment</td>\n      <td>14156673</td>\n      <td>14156630.0</td>\n      <td>NaN</td>\n      <td>NaN</td>\n      <td>NaN</td>\n      <td>2017-04-20T14:02:19Z</td>\n    </tr>\n    <tr>\n      <th>20</th>\n      <td>Ireland plans to make high-speed broadband a right for every citizen</td>\n      <td>http://qz.com/699067/ireland-plans-to-make-high-speed-broadband-a-right-for-every-citizen/</td>\n      <td>NaN</td>\n      <td>NaN</td>\n      <td>ohjeez</td>\n      <td>2.0</td>\n      <td>1.465071e+09</td>\n      <td>story</td>\n      <td>11837795</td>\n      <td>NaN</td>\n      <td>0.0</td>\n      <td>NaN</td>\n      <td>NaN</td>\n      <td>2016-06-04T20:16:27Z</td>\n    </tr>\n    <tr>\n      <th>21</th>\n      <td>NaN</td>\n      <td>NaN</td>\n      <td>If there's a high chance of you going to jail each time you do it that makes it non-sustainable.</td>\n      <td>NaN</td>\n      <td>cturner</td>\n      <td>NaN</td>\n      <td>1.273330e+09</td>\n      <td>comment</td>\n      <td>1330233</td>\n      <td>1330172.0</td>\n      <td>NaN</td>\n      <td>NaN</td>\n      <td>NaN</td>\n      <td>2010-05-08T14:47:52Z</td>\n    </tr>\n    <tr>\n      <th>22</th>\n      <td>Lessons in i18n</td>\n      <td>NaN</td>\n      <td>(I submitted this a few days ago but I think I messed up the submission.)&lt;p&gt;This is a site I've been working on recently to help developers avoid the traps and pitfalls that are hiding behind every corner when trying to internationalise a software project:&lt;p&gt;http://i18n.tumblr.com&lt;p&gt;It's not specifically a technical resource; there are plenty of those out there... it's more designed to change the way developers think about languages and locales and the interesting problems they create in software.   Feedback!  Comments!</td>\n      <td>NaN</td>\n      <td>quile</td>\n      <td>2.0</td>\n      <td>1.292524e+09</td>\n      <td>story</td>\n      <td>2013046</td>\n      <td>NaN</td>\n      <td>0.0</td>\n      <td>NaN</td>\n      <td>NaN</td>\n      <td>2010-12-16T18:27:09Z</td>\n    </tr>\n    <tr>\n      <th>23</th>\n      <td>NaN</td>\n      <td>NaN</td>\n      <td>Actually the definition of \"pedantic\" is \"marked by a narrow focus on or display of learning especially its trivial aspects\".</td>\n      <td>NaN</td>\n      <td>idlewords</td>\n      <td>NaN</td>\n      <td>1.251979e+09</td>\n      <td>comment</td>\n      <td>802237</td>\n      <td>802210.0</td>\n      <td>NaN</td>\n      <td>NaN</td>\n      <td>NaN</td>\n      <td>2009-09-03T11:55:09Z</td>\n    </tr>\n    <tr>\n      <th>24</th>\n      <td>NaN</td>\n      <td>NaN</td>\n      <td>&amp;#62; If the application becomes successful you would have live with being the one to make carriers the world over to begin charging when a phone BEGINS ringing instead of a successful connection. (or remove the loophole in another way like charge on the 3rd attempt.)&lt;p&gt;They could also start messing up your careful timing.  Then it would be much harder to convey information.</td>\n      <td>NaN</td>\n      <td>eru</td>\n      <td>NaN</td>\n      <td>1.324105e+09</td>\n      <td>comment</td>\n      <td>3363666</td>\n      <td>3363415.0</td>\n      <td>NaN</td>\n      <td>NaN</td>\n      <td>NaN</td>\n      <td>2011-12-17T06:58:06Z</td>\n    </tr>\n    <tr>\n      <th>25</th>\n      <td>NaN</td>\n      <td>NaN</td>\n      <td>Looks like the 10k goal has already been reached :)</td>\n      <td>NaN</td>\n      <td>pawadu</td>\n      <td>NaN</td>\n      <td>1.480063e+09</td>\n      <td>comment</td>\n      <td>13035119</td>\n      <td>13028978.0</td>\n      <td>NaN</td>\n      <td>NaN</td>\n      <td>NaN</td>\n      <td>2016-11-25T08:37:06Z</td>\n    </tr>\n    <tr>\n      <th>26</th>\n      <td>NaN</td>\n      <td>NaN</td>\n      <td>Definitely has the slant that everyone in the world is stupid. I don't like that kind of world view but still somewhat interesting. Can't stop estimating that most of the people in the world are stupid. Pretty antisocial.</td>\n      <td>NaN</td>\n      <td>napierzaza</td>\n      <td>NaN</td>\n      <td>1.305989e+09</td>\n      <td>comment</td>\n      <td>2570935</td>\n      <td>2570448.0</td>\n      <td>NaN</td>\n      <td>NaN</td>\n      <td>NaN</td>\n      <td>2011-05-21T14:40:31Z</td>\n    </tr>\n    <tr>\n      <th>27</th>\n      <td>NaN</td>\n      <td>NaN</td>\n      <td>Funny I had just switched over my last GoDaddy domain yesterday to start using a different nameserver and finally move it off their system entirely.  Might have to give this a try.</td>\n      <td>NaN</td>\n      <td>tdicola</td>\n      <td>NaN</td>\n      <td>1.421178e+09</td>\n      <td>comment</td>\n      <td>8881997</td>\n      <td>8881887.0</td>\n      <td>NaN</td>\n      <td>NaN</td>\n      <td>NaN</td>\n      <td>2015-01-13T19:36:52Z</td>\n    </tr>\n    <tr>\n      <th>28</th>\n      <td>NaN</td>\n      <td>NaN</td>\n      <td>I tried both Google login buttons multiple times and the site errored every time.  I tried to email support@carbongames.com and I got a Google Groups permanent rejection email.&lt;p&gt;A Google Group subscription is \"required\" to get the link to the app but I can't post in the group.&lt;p&gt;I tried the forums but that requires an account.&lt;p&gt;I tried whois on the domain but it is under DomainsByProxy.com.&lt;p&gt;I have details and screenshots if someone is interested.</td>\n      <td>NaN</td>\n      <td>GICodeWarrior</td>\n      <td>NaN</td>\n      <td>1.328753e+09</td>\n      <td>comment</td>\n      <td>3569485</td>\n      <td>3569041.0</td>\n      <td>NaN</td>\n      <td>NaN</td>\n      <td>NaN</td>\n      <td>2012-02-09T02:07:26Z</td>\n    </tr>\n    <tr>\n      <th>29</th>\n      <td>NaN</td>\n      <td>NaN</td>\n      <td>;)</td>\n      <td>NaN</td>\n      <td>cloudrail</td>\n      <td>NaN</td>\n      <td>1.412951e+09</td>\n      <td>comment</td>\n      <td>8437821</td>\n      <td>8437597.0</td>\n      <td>NaN</td>\n      <td>NaN</td>\n      <td>NaN</td>\n      <td>2014-10-10T14:23:26Z</td>\n    </tr>\n    <tr>\n      <th>30</th>\n      <td>NaN</td>\n      <td>NaN</td>\n      <td>white on red also makes my eyes hurt a little bit..</td>\n      <td>NaN</td>\n      <td>zoidb</td>\n      <td>NaN</td>\n      <td>1.479217e+09</td>\n      <td>comment</td>\n      <td>12957773</td>\n      <td>12957603.0</td>\n      <td>NaN</td>\n      <td>NaN</td>\n      <td>NaN</td>\n      <td>2016-11-15T13:30:04Z</td>\n    </tr>\n    <tr>\n      <th>31</th>\n      <td>NaN</td>\n      <td>NaN</td>\n      <td>If facebook was 1000x more promising than his audio software then it would be about the same.</td>\n      <td>NaN</td>\n      <td>whatshisface</td>\n      <td>NaN</td>\n      <td>1.363712e+09</td>\n      <td>comment</td>\n      <td>5401973</td>\n      <td>5400552.0</td>\n      <td>NaN</td>\n      <td>NaN</td>\n      <td>NaN</td>\n      <td>2013-03-19T16:45:08Z</td>\n    </tr>\n    <tr>\n      <th>32</th>\n      <td>NaN</td>\n      <td>NaN</td>\n      <td>Fully agree. Documentation is incomplete and it really slow things much when trying to implement it seriously and not just in a demo page.</td>\n      <td>NaN</td>\n      <td>carlos</td>\n      <td>NaN</td>\n      <td>1.285861e+09</td>\n      <td>comment</td>\n      <td>1743571</td>\n      <td>1743545.0</td>\n      <td>NaN</td>\n      <td>NaN</td>\n      <td>NaN</td>\n      <td>2010-09-30T15:31:41Z</td>\n    </tr>\n    <tr>\n      <th>33</th>\n      <td>Magic with Manticore</td>\n      <td>https://blog.trailofbits.com/2017/05/15/magic-with-manticore/</td>\n      <td>NaN</td>\n      <td>NaN</td>\n      <td>remx</td>\n      <td>1.0</td>\n      <td>1.494859e+09</td>\n      <td>story</td>\n      <td>14341934</td>\n      <td>NaN</td>\n      <td>0.0</td>\n      <td>NaN</td>\n      <td>NaN</td>\n      <td>2017-05-15T14:43:38Z</td>\n    </tr>\n    <tr>\n      <th>34</th>\n      <td>NaN</td>\n      <td>NaN</td>\n      <td>I second your call.  That would be a completely insane move!</td>\n      <td>NaN</td>\n      <td>consciousness</td>\n      <td>NaN</td>\n      <td>1.376943e+09</td>\n      <td>comment</td>\n      <td>6239471</td>\n      <td>6239393.0</td>\n      <td>NaN</td>\n      <td>NaN</td>\n      <td>NaN</td>\n      <td>2013-08-19T20:11:32Z</td>\n    </tr>\n    <tr>\n      <th>35</th>\n      <td>NaN</td>\n      <td>NaN</td>\n      <td>from</td>\n      <td>True</td>\n      <td>bobcoat</td>\n      <td>NaN</td>\n      <td>1.426262e+09</td>\n      <td>comment</td>\n      <td>9197770</td>\n      <td>9197687.0</td>\n      <td>NaN</td>\n      <td>NaN</td>\n      <td>NaN</td>\n      <td>2015-03-13T15:51:15Z</td>\n    </tr>\n    <tr>\n      <th>36</th>\n      <td>NaN</td>\n      <td>NaN</td>\n      <td>&amp;gt; and without it you&amp;#x27;d just likely learn untrue things.&lt;p&gt;I prefer this to the more common &amp;#x27;Just don&amp;#x27;t do it&amp;#x27; as you actually state &lt;i&gt;why&lt;/i&gt;. The reason is something I knew intuitively but couldn&amp;#x27;t really (And had actually never devoted any time to) put[ting] it into words. Thank you.</td>\n      <td>NaN</td>\n      <td>fao_</td>\n      <td>NaN</td>\n      <td>1.463527e+09</td>\n      <td>comment</td>\n      <td>11718460</td>\n      <td>11713332.0</td>\n      <td>NaN</td>\n      <td>NaN</td>\n      <td>NaN</td>\n      <td>2016-05-17T23:24:58Z</td>\n    </tr>\n    <tr>\n      <th>37</th>\n      <td>LimeSDR.org low-cost open source app-enabled SDR coming soon</td>\n      <td>https://www.crowdsupply.com/lime-micro/limesdr</td>\n      <td>NaN</td>\n      <td>NaN</td>\n      <td>mectors</td>\n      <td>1.0</td>\n      <td>1.460551e+09</td>\n      <td>story</td>\n      <td>11487579</td>\n      <td>NaN</td>\n      <td>0.0</td>\n      <td>NaN</td>\n      <td>NaN</td>\n      <td>2016-04-13T12:33:15Z</td>\n    </tr>\n    <tr>\n      <th>38</th>\n      <td>NaN</td>\n      <td>NaN</td>\n      <td>&amp;gt; Seriously if you want to cheat DirectTV call them up go to retentions for cancelling service and get FREE (or heavily discounted) Sunday Ticket just like many others.&lt;p&gt;Your entire first post was about getting NFL content &lt;i&gt;&lt;/i&gt;without&lt;i&gt;&lt;/i&gt; cheating (see: &amp;quot;The NFL goes to GREAT LENGTHS to make content available to you without cheating&amp;quot;).  Whether you are dishonest to DirecTV&amp;#x27;s retention dept or you are dishonest about your IP location or are dishonest about your ability to get DirecTV service or a slew of any other methods it all involves being dishonest to someone.&lt;p&gt;The root problem is there is no way to get out of market games without resorting to cheating.  Every other American sports league offers this type of subscription package.&lt;p&gt;The NFL has stated they&amp;#x27;re shopping the exclusivity of Sunday Ticket to carriers other than DirecTV starting next season.  Hopefully that is the case so they can address this glaring hole.&lt;p&gt;&amp;gt; I notice you replied to everything except for Rewind.&lt;p&gt;I ignored Rewind because that doesn&amp;#x27;t involve live NFL games.</td>\n      <td>NaN</td>\n      <td>drgath</td>\n      <td>NaN</td>\n      <td>1.379363e+09</td>\n      <td>comment</td>\n      <td>6395652</td>\n      <td>6394686.0</td>\n      <td>NaN</td>\n      <td>NaN</td>\n      <td>NaN</td>\n      <td>2013-09-16T20:24:09Z</td>\n    </tr>\n    <tr>\n      <th>39</th>\n      <td>NaN</td>\n      <td>NaN</td>\n      <td>You can wax philosophical all you&amp;#x27;d like when the time comes to choose between dying or not dying you&amp;#x27;re going to pick not dying.&lt;p&gt;Maybe not forever but for awhile.</td>\n      <td>NaN</td>\n      <td>diminoten</td>\n      <td>NaN</td>\n      <td>1.409844e+09</td>\n      <td>comment</td>\n      <td>8268785</td>\n      <td>8268756.0</td>\n      <td>NaN</td>\n      <td>NaN</td>\n      <td>NaN</td>\n      <td>2014-09-04T15:25:18Z</td>\n    </tr>\n    <tr>\n      <th>40</th>\n      <td>NaN</td>\n      <td>NaN</td>\n      <td>Thank you for insight. If the deployment indeed takes hours and there are high chances of pulling wrong builds then indeed the time costs are very tangible. But if manual deployment takes at most 10 to 20 minutes and relatively straightforward then it might be less of a case. Depending on how often you deploy also impacts this greatly.  I guess in certain cases ROI is just not extremely high and that greatly reduces the appeal of such investment.</td>\n      <td>NaN</td>\n      <td>noway421</td>\n      <td>NaN</td>\n      <td>1.496639e+09</td>\n      <td>comment</td>\n      <td>14485349</td>\n      <td>14463599.0</td>\n      <td>NaN</td>\n      <td>NaN</td>\n      <td>NaN</td>\n      <td>2017-06-05T05:02:13Z</td>\n    </tr>\n    <tr>\n      <th>41</th>\n      <td>NaN</td>\n      <td>NaN</td>\n      <td>Use Selz. Do everything Gumroad does&amp;#x2F;did but also plugs in stuff like Mailchimp Aweber Campain Monitor etc etc. Don&amp;#x27;t know anything about SendOul.</td>\n      <td>NaN</td>\n      <td>PaDuerriel</td>\n      <td>NaN</td>\n      <td>1.446888e+09</td>\n      <td>comment</td>\n      <td>10524246</td>\n      <td>10517308.0</td>\n      <td>NaN</td>\n      <td>NaN</td>\n      <td>NaN</td>\n      <td>2015-11-07T09:14:11Z</td>\n    </tr>\n    <tr>\n      <th>42</th>\n      <td>NaN</td>\n      <td>NaN</td>\n      <td>Borland WebBuilder.</td>\n      <td>NaN</td>\n      <td>jacquesm</td>\n      <td>NaN</td>\n      <td>1.449449e+09</td>\n      <td>comment</td>\n      <td>10687435</td>\n      <td>10687054.0</td>\n      <td>NaN</td>\n      <td>NaN</td>\n      <td>NaN</td>\n      <td>2015-12-07T00:38:44Z</td>\n    </tr>\n    <tr>\n      <th>43</th>\n      <td>NaN</td>\n      <td>NaN</td>\n      <td>Define &amp;#x27;virtual&amp;#x27; please.</td>\n      <td>True</td>\n      <td>dschiptsov</td>\n      <td>NaN</td>\n      <td>1.480704e+09</td>\n      <td>comment</td>\n      <td>13091096</td>\n      <td>13090539.0</td>\n      <td>NaN</td>\n      <td>NaN</td>\n      <td>NaN</td>\n      <td>2016-12-02T18:40:01Z</td>\n    </tr>\n    <tr>\n      <th>44</th>\n      <td>NaN</td>\n      <td>NaN</td>\n      <td>&lt;p&gt;&lt;pre&gt;&lt;code&gt;  It is not the critic who counts;\\n  not the man who points out how the strong man stumbles\\n  or where the doer of deeds could have done them better.\\n  The credit belongs to the man who is actually in the arena\\n  whose face is marred by dust and sweat and blood;\\n  who strives valiantly; who errs\\n  who comes short again and again\\n  because there is no effort without error and shortcoming;\\n  but who does actually strive to do the deeds;\\n  who knows great enthusiasms\\n  the great devotions;\\n  who spends himself in a worthy cause;\\n  who at the best knows in the end the triumph of high achievement\\n  and who at the worst\\n  if he fails\\n  at least fails while daring greatly\\n  so that his place shall never be with those cold and timid souls who neither know victory nor defeat.\\n&lt;/code&gt;&lt;/pre&gt;\\n&lt;a href=\"https:&amp;#x2F;&amp;#x2F;en.wikipedia.org&amp;#x2F;wiki&amp;#x2F;Citizenship_in_a_Republic\" rel=\"nofollow\"&gt;https:&amp;#x2F;&amp;#x2F;en.wikipedia.org&amp;#x2F;wiki&amp;#x2F;Citizenship_in_a_Republic&lt;/a&gt;</td>\n      <td>NaN</td>\n      <td>jncraton</td>\n      <td>NaN</td>\n      <td>1.497710e+09</td>\n      <td>comment</td>\n      <td>14576058</td>\n      <td>14574926.0</td>\n      <td>NaN</td>\n      <td>NaN</td>\n      <td>NaN</td>\n      <td>2017-06-17T14:35:20Z</td>\n    </tr>\n    <tr>\n      <th>45</th>\n      <td>NaN</td>\n      <td>NaN</td>\n      <td>Hrmmm...I&amp;#x27;ve only ever seen studies that claim daydreaming is an important part of creativity learning and mental health.</td>\n      <td>NaN</td>\n      <td>nomel</td>\n      <td>NaN</td>\n      <td>1.430634e+09</td>\n      <td>comment</td>\n      <td>9480247</td>\n      <td>9478674.0</td>\n      <td>NaN</td>\n      <td>NaN</td>\n      <td>NaN</td>\n      <td>2015-05-03T06:25:45Z</td>\n    </tr>\n    <tr>\n      <th>46</th>\n      <td>Are Russian hackers behind the Bundestag cyber attack?</td>\n      <td>http://securityaffairs.co/wordpress/37535/cyber-crime/russians-hacked-bundestag.html</td>\n      <td>NaN</td>\n      <td>NaN</td>\n      <td>paganinip</td>\n      <td>1.0</td>\n      <td>1.433430e+09</td>\n      <td>story</td>\n      <td>9659734</td>\n      <td>NaN</td>\n      <td>0.0</td>\n      <td>NaN</td>\n      <td>NaN</td>\n      <td>2015-06-04T15:04:10Z</td>\n    </tr>\n    <tr>\n      <th>47</th>\n      <td>NaN</td>\n      <td>NaN</td>\n      <td>This is essentially ParAccel as a service. So it is one of those data warehouse vendors. As to the pricing as always it isn't so straightforward -- it's $999 per TB a year if you pay $3000 upfront and then another $1000 for a single very weak database server.</td>\n      <td>True</td>\n      <td>huggyface</td>\n      <td>NaN</td>\n      <td>1.354128e+09</td>\n      <td>comment</td>\n      <td>4843950</td>\n      <td>4843936.0</td>\n      <td>NaN</td>\n      <td>NaN</td>\n      <td>NaN</td>\n      <td>2012-11-28T18:35:02Z</td>\n    </tr>\n    <tr>\n      <th>48</th>\n      <td>The Internet is Missing (2002)</td>\n      <td>http://www.satn.org/about/missinginternet.htm</td>\n      <td>NaN</td>\n      <td>NaN</td>\n      <td>djsumdog</td>\n      <td>1.0</td>\n      <td>1.476833e+09</td>\n      <td>story</td>\n      <td>12739615</td>\n      <td>NaN</td>\n      <td>0.0</td>\n      <td>NaN</td>\n      <td>NaN</td>\n      <td>2016-10-18T23:18:34Z</td>\n    </tr>\n    <tr>\n      <th>49</th>\n      <td>NaN</td>\n      <td>NaN</td>\n      <td>The part about the battery is very interesting! I googled it and couldn&amp;#x27;t find any more information though... do you have any links?</td>\n      <td>NaN</td>\n      <td>jamescostian</td>\n      <td>NaN</td>\n      <td>1.496359e+09</td>\n      <td>comment</td>\n      <td>14465865</td>\n      <td>14465850.0</td>\n      <td>NaN</td>\n      <td>NaN</td>\n      <td>NaN</td>\n      <td>2017-06-01T23:20:05Z</td>\n    </tr>\n  </tbody>\n</table>\n</div>"
     },
     "metadata": {},
     "execution_count": 4
    }
   ],
   "source": [
    "df.head(50)"
   ]
  },
  {
   "cell_type": "code",
   "execution_count": 166,
   "metadata": {
    "tags": []
   },
   "outputs": [],
   "source": [
    "def preprocess_df(df):\n",
    "    df = df[df['text'].notna()]\n",
    "    df['neg'], df['neu'], df['pos'], df[\"compound\"] = [np.nan, np.nan,np.nan,np.nan]    \n",
    "    return df\n",
    "\n",
    "def add_sentiment(df):\n",
    "    df['neg'], df['neu'], df['pos'], df[\"compound\"] = [np.nan, np.nan,np.nan,np.nan]\n",
    "    sid = SentimentIntensityAnalyzer()\n",
    "    for i, row in df.iterrows():\n",
    "        text = row[\"text\"]\n",
    "        text = html.unescape(text)\n",
    "        text =  re.sub('<[^<]+?>', '', text)\n",
    "        df.at[i,\"text\"] = text\n",
    "        ss = sid.polarity_scores(text)\n",
    "        for k in ss:\n",
    "            df.at[i,k] = ss[k]\n",
    "\n",
    "\n",
    "\n",
    "\n"
   ]
  },
  {
   "cell_type": "code",
   "execution_count": 164,
   "metadata": {},
   "outputs": [
    {
     "output_type": "execute_result",
     "data": {
      "text/plain": "             score          time            id        parent  descendants  \\\ncount  1737.000000  8.153000e+04  8.153000e+04  7.979300e+04  1548.000000   \nmean   5.213587     1.387459e+09  7.369586e+06  7.419128e+06  3.410853      \nstd    21.129398    7.622413e+07  4.220612e+06  4.213057e+06  14.535619     \nmin    0.000000     1.172086e+09  3.620000e+02  1.450000e+02 -1.000000      \n25%    1.000000     1.332827e+09  3.760196e+06  3.836577e+06 -1.000000      \n50%    1.000000     1.394251e+09  7.364090e+06  7.439650e+06  0.000000      \n75%    3.000000     1.454520e+09  1.102772e+07  1.106604e+07  2.000000      \nmax    639.000000   1.498466e+09  1.463506e+07  1.463497e+07  368.000000    \n\n       ranking           neg           neu           pos      compound  \ncount  0.0      81530.000000  81530.000000  81530.000000  81530.000000  \nmean  NaN       0.059936      0.825668      0.114299      0.216708      \nstd   NaN       0.082589      0.134709      0.119930      0.529816      \nmin   NaN       0.000000      0.000000      0.000000     -0.999500      \n25%   NaN       0.000000      0.761000      0.018000     -0.077200      \n50%   NaN       0.034000      0.839000      0.094000      0.273200      \n75%   NaN       0.092000      0.912000      0.161000      0.680800      \nmax   NaN       1.000000      1.000000      1.000000      0.999700      ",
      "text/html": "<div>\n<style scoped>\n    .dataframe tbody tr th:only-of-type {\n        vertical-align: middle;\n    }\n\n    .dataframe tbody tr th {\n        vertical-align: top;\n    }\n\n    .dataframe thead th {\n        text-align: right;\n    }\n</style>\n<table border=\"1\" class=\"dataframe\">\n  <thead>\n    <tr style=\"text-align: right;\">\n      <th></th>\n      <th>score</th>\n      <th>time</th>\n      <th>id</th>\n      <th>parent</th>\n      <th>descendants</th>\n      <th>ranking</th>\n      <th>neg</th>\n      <th>neu</th>\n      <th>pos</th>\n      <th>compound</th>\n    </tr>\n  </thead>\n  <tbody>\n    <tr>\n      <th>count</th>\n      <td>1737.000000</td>\n      <td>8.153000e+04</td>\n      <td>8.153000e+04</td>\n      <td>7.979300e+04</td>\n      <td>1548.000000</td>\n      <td>0.0</td>\n      <td>81530.000000</td>\n      <td>81530.000000</td>\n      <td>81530.000000</td>\n      <td>81530.000000</td>\n    </tr>\n    <tr>\n      <th>mean</th>\n      <td>5.213587</td>\n      <td>1.387459e+09</td>\n      <td>7.369586e+06</td>\n      <td>7.419128e+06</td>\n      <td>3.410853</td>\n      <td>NaN</td>\n      <td>0.059936</td>\n      <td>0.825668</td>\n      <td>0.114299</td>\n      <td>0.216708</td>\n    </tr>\n    <tr>\n      <th>std</th>\n      <td>21.129398</td>\n      <td>7.622413e+07</td>\n      <td>4.220612e+06</td>\n      <td>4.213057e+06</td>\n      <td>14.535619</td>\n      <td>NaN</td>\n      <td>0.082589</td>\n      <td>0.134709</td>\n      <td>0.119930</td>\n      <td>0.529816</td>\n    </tr>\n    <tr>\n      <th>min</th>\n      <td>0.000000</td>\n      <td>1.172086e+09</td>\n      <td>3.620000e+02</td>\n      <td>1.450000e+02</td>\n      <td>-1.000000</td>\n      <td>NaN</td>\n      <td>0.000000</td>\n      <td>0.000000</td>\n      <td>0.000000</td>\n      <td>-0.999500</td>\n    </tr>\n    <tr>\n      <th>25%</th>\n      <td>1.000000</td>\n      <td>1.332827e+09</td>\n      <td>3.760196e+06</td>\n      <td>3.836577e+06</td>\n      <td>-1.000000</td>\n      <td>NaN</td>\n      <td>0.000000</td>\n      <td>0.761000</td>\n      <td>0.018000</td>\n      <td>-0.077200</td>\n    </tr>\n    <tr>\n      <th>50%</th>\n      <td>1.000000</td>\n      <td>1.394251e+09</td>\n      <td>7.364090e+06</td>\n      <td>7.439650e+06</td>\n      <td>0.000000</td>\n      <td>NaN</td>\n      <td>0.034000</td>\n      <td>0.839000</td>\n      <td>0.094000</td>\n      <td>0.273200</td>\n    </tr>\n    <tr>\n      <th>75%</th>\n      <td>3.000000</td>\n      <td>1.454520e+09</td>\n      <td>1.102772e+07</td>\n      <td>1.106604e+07</td>\n      <td>2.000000</td>\n      <td>NaN</td>\n      <td>0.092000</td>\n      <td>0.912000</td>\n      <td>0.161000</td>\n      <td>0.680800</td>\n    </tr>\n    <tr>\n      <th>max</th>\n      <td>639.000000</td>\n      <td>1.498466e+09</td>\n      <td>1.463506e+07</td>\n      <td>1.463497e+07</td>\n      <td>368.000000</td>\n      <td>NaN</td>\n      <td>1.000000</td>\n      <td>1.000000</td>\n      <td>1.000000</td>\n      <td>0.999700</td>\n    </tr>\n  </tbody>\n</table>\n</div>"
     },
     "metadata": {},
     "execution_count": 164
    }
   ],
   "source": [
    "df = preprocess_df(df)\n",
    "add_sentiment(df)\n",
    "df.describe()"
   ]
  },
  {
   "cell_type": "code",
   "execution_count": 56,
   "metadata": {},
   "outputs": [],
   "source": [
    "X_train, X_test = train_test_split(df)\n"
   ]
  },
  {
   "cell_type": "code",
   "execution_count": 119,
   "metadata": {},
   "outputs": [],
   "source": [
    "scored = X_train.loc[X_train['compound'] != 0]"
   ]
  },
  {
   "cell_type": "code",
   "execution_count": 128,
   "metadata": {},
   "outputs": [],
   "source": [
    "X = pipeline.fit_transform(scored[\"text\"])"
   ]
  },
  {
   "cell_type": "markdown",
   "metadata": {},
   "source": [
    "## Decision Tree"
   ]
  },
  {
   "cell_type": "code",
   "execution_count": null,
   "metadata": {},
   "outputs": [],
   "source": [
    "pipeline = Pipeline(\n",
    "    [\n",
    "        ('vect', CountVectorizer(analyzer='word')),\n",
    "        ('tfidf', TfidfTransformer()),    \n",
    "    ]\n",
    ")"
   ]
  },
  {
   "cell_type": "code",
   "execution_count": 122,
   "metadata": {},
   "outputs": [
    {
     "output_type": "execute_result",
     "data": {
      "text/plain": "DecisionTreeRegressor(ccp_alpha=0.0, criterion='mse', max_depth=None,\n                      max_features=None, max_leaf_nodes=None,\n                      min_impurity_decrease=0.0, min_impurity_split=None,\n                      min_samples_leaf=1, min_samples_split=2,\n                      min_weight_fraction_leaf=0.0, presort='deprecated',\n                      random_state=42, splitter='best')"
     },
     "metadata": {},
     "execution_count": 122
    }
   ],
   "source": [
    "tree_reg = DecisionTreeRegressor(random_state=42)\n",
    "tree_reg.fit(X, scored[\"compound\"])"
   ]
  },
  {
   "cell_type": "code",
   "execution_count": 129,
   "metadata": {},
   "outputs": [],
   "source": [
    "scored_test = X_test.loc[X_test['compound'] != 0]\n",
    "X2 = pipeline.transform(scored_test[\"text\"])\n",
    "print(scored_test[\"compound\"].shape)\n",
    "print(X2.shape)"
   ]
  },
  {
   "cell_type": "code",
   "execution_count": 133,
   "metadata": {},
   "outputs": [
    {
     "output_type": "execute_result",
     "data": {
      "text/plain": "0.6365505601380854"
     },
     "metadata": {},
     "execution_count": 133
    }
   ],
   "source": [
    "from sklearn.metrics import mean_squared_error\n",
    "predictions = tree_reg.predict(X2)\n",
    "\n",
    "tree_mse = mean_squared_error(scored_test[\"compound\"], predictions)\n",
    "tree_rmse = np.sqrt(tree_mse)\n",
    "tree_rmse"
   ]
  },
  {
   "cell_type": "markdown",
   "metadata": {},
   "source": [
    "## Keras "
   ]
  },
  {
   "cell_type": "code",
   "execution_count": 152,
   "metadata": {
    "tags": []
   },
   "outputs": [],
   "source": [
    "\n",
    "EPOCHS = 10\n",
    "\n",
    "def build_model():\n",
    "  model = keras.Sequential([\n",
    "    layers.Dense(64, activation='relu', input_shape=[X.shape[1]]),\n",
    "    layers.Dense(64, activation='relu'),\n",
    "    layers.Dense(1)\n",
    "  ])\n",
    "\n",
    "  optimizer = tf.keras.optimizers.RMSprop(0.001)\n",
    "\n",
    "  model.compile(loss='mse',\n",
    "                optimizer=optimizer,\n",
    "                metrics=['mae', 'mse'])\n",
    "  return model"
   ]
  },
  {
   "cell_type": "code",
   "execution_count": 153,
   "metadata": {
    "tags": []
   },
   "outputs": [
    {
     "output_type": "stream",
     "name": "stdout",
     "text": "Model: \"sequential_1\"\n_________________________________________________________________\nLayer (type)                 Output Shape              Param #   \n=================================================================\ndense_3 (Dense)              (None, 64)                4916992   \n_________________________________________________________________\ndense_4 (Dense)              (None, 64)                4160      \n_________________________________________________________________\ndense_5 (Dense)              (None, 1)                 65        \n=================================================================\nTotal params: 4,921,217\nTrainable params: 4,921,217\nNon-trainable params: 0\n_________________________________________________________________\n"
    }
   ],
   "source": [
    "model = build_model()\n",
    "model.summary()\n"
   ]
  },
  {
   "cell_type": "code",
   "execution_count": 156,
   "metadata": {
    "tags": []
   },
   "outputs": [
    {
     "output_type": "stream",
     "name": "stdout",
     "text": "WARNING:tensorflow:Falling back from v2 loop because of error: Failed to find data adapter that can handle input: <class 'scipy.sparse.csr.csr_matrix'>, <class 'NoneType'>\nTrain on 41576 samples, validate on 10395 samples\nEpoch 1/10\n41576/41576 [==============================] - 102s 2ms/sample - loss: 0.1676 - mae: 0.3143 - mse: 0.1676 - val_loss: 0.1464 - val_mae: 0.2798 - val_mse: 0.1464\nEpoch 2/10\n41576/41576 [==============================] - 110s 3ms/sample - loss: 0.1047 - mae: 0.2321 - mse: 0.1047 - val_loss: 0.1346 - val_mae: 0.2717 - val_mse: 0.1346\nEpoch 3/10\n41576/41576 [==============================] - 105s 3ms/sample - loss: 0.0793 - mae: 0.1950 - mse: 0.0793 - val_loss: 0.1419 - val_mae: 0.2650 - val_mse: 0.1419\nEpoch 4/10\n41576/41576 [==============================] - 111s 3ms/sample - loss: 0.0593 - mae: 0.1650 - mse: 0.0593 - val_loss: 0.1399 - val_mae: 0.2785 - val_mse: 0.1399\nEpoch 5/10\n41576/41576 [==============================] - 105s 3ms/sample - loss: 0.0442 - mae: 0.1402 - mse: 0.0442 - val_loss: 0.1430 - val_mae: 0.2678 - val_mse: 0.1430\nEpoch 6/10\n41576/41576 [==============================] - 105s 3ms/sample - loss: 0.0335 - mae: 0.1217 - mse: 0.0335 - val_loss: 0.1464 - val_mae: 0.2794 - val_mse: 0.1464\nEpoch 7/10\n41576/41576 [==============================] - 101s 2ms/sample - loss: 0.0259 - mae: 0.1077 - mse: 0.0259 - val_loss: 0.1449 - val_mae: 0.2712 - val_mse: 0.1449\nEpoch 8/10\n41576/41576 [==============================] - 106s 3ms/sample - loss: 0.0208 - mae: 0.0973 - mse: 0.0208 - val_loss: 0.1442 - val_mae: 0.2729 - val_mse: 0.1442\nEpoch 9/10\n41576/41576 [==============================] - 98s 2ms/sample - loss: 0.0172 - mae: 0.0891 - mse: 0.0172 - val_loss: 0.1455 - val_mae: 0.2706 - val_mse: 0.1455\nEpoch 10/10\n41576/41576 [==============================] - 97s 2ms/sample - loss: 0.0146 - mae: 0.0829 - mse: 0.0146 - val_loss: 0.1484 - val_mae: 0.2752 - val_mse: 0.1484\n"
    }
   ],
   "source": [
    "history = model.fit(\n",
    "  X, scored[\"compound\"],\n",
    "  epochs=EPOCHS, validation_split = 0.2, verbose=1)"
   ]
  },
  {
   "cell_type": "code",
   "execution_count": 157,
   "metadata": {
    "tags": []
   },
   "outputs": [
    {
     "output_type": "stream",
     "name": "stdout",
     "text": "WARNING:tensorflow:Falling back from v2 loop because of error: Failed to find data adapter that can handle input: <class 'scipy.sparse.csr.csr_matrix'>, <class 'NoneType'>\n[[0.6620629]]\n"
    }
   ],
   "source": [
    "def predict_text(text, model = model):\n",
    "    xtemp = pipeline.transform([text])\n",
    "    predictions = model.predict(xtemp)\n",
    "    print(predictions)\n",
    "    return predictions\n",
    "\n",
    "\n",
    "\n",
    "txt = \"Reality is that while China blocks Facebook, Google, etc and smartly props up their own clones, it’s “aghast” at the American protectionism and xenophobic behaviour. How dare the Americans block a Chinese app?! China is not a democracy. It’s not interested in fairness. China is playing the long game. Just like the wars of the past were fought with little toy armies of a few thousand knights and noblemen marching into each other’s countries until someone decided to conscript their whole nation into battle, the West is fighting allowing China to pilfer its technology, wreak the environment, and compete with state backed organisations. Wanna compete with Huawei? Good luck sending in your company noblemen, China is sending their whole nation behind it.\"\n",
    "\n",
    "\n",
    "preds = predict_text(\"Impressive! Personally, I am a few thousand places behind, but still in the top 0.2%. How? I asked and answered a few hundred questions early on, years ago, when SO was new and interesting... Now those answers are old and, like most answers on SO, out of date. Usually when I google something technical and get seemingly the exact right question asked on SO, the answers are no longer correct. Software versions change. And yet I still get a steady trickle of votes, forever increasing the gulf between outdated and no-longer-participating people like me and anyone starting on SO today.\")\n"
   ]
  },
  {
   "cell_type": "code",
   "execution_count": 160,
   "metadata": {
    "tags": []
   },
   "outputs": [
    {
     "output_type": "stream",
     "name": "stdout",
     "text": "WARNING:tensorflow:Falling back from v2 loop because of error: Failed to find data adapter that can handle input: <class 'scipy.sparse.csr.csr_matrix'>, <class 'NoneType'>\n"
    }
   ],
   "source": [
    "predictions = model.predict(X2)\n"
   ]
  },
  {
   "cell_type": "code",
   "execution_count": 161,
   "metadata": {},
   "outputs": [
    {
     "output_type": "execute_result",
     "data": {
      "text/plain": "0.39776707368686554"
     },
     "metadata": {},
     "execution_count": 161
    }
   ],
   "source": [
    "tree_mse = mean_squared_error(scored_test[\"compound\"], predictions)\n",
    "tree_rmse = np.sqrt(tree_mse)\n",
    "tree_rmse"
   ]
  }
 ]
}