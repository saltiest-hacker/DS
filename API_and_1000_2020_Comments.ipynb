{
  "nbformat": 4,
  "nbformat_minor": 0,
  "metadata": {
    "colab": {
      "name": "API and 1000 2020 Comments.ipynb",
      "provenance": []
    },
    "kernelspec": {
      "name": "python3",
      "display_name": "Python 3"
    }
  },
  "cells": [
    {
      "cell_type": "code",
      "metadata": {
        "id": "xmU4uqpua396",
        "colab_type": "code",
        "colab": {}
      },
      "source": [
        "import pandas as pd\n",
        "import numpy as np\n",
        "import json\n",
        "import requests\n",
        "import urllib3"
      ],
      "execution_count": 10,
      "outputs": []
    },
    {
      "cell_type": "code",
      "metadata": {
        "id": "QSUak7YbeTXt",
        "colab_type": "code",
        "colab": {}
      },
      "source": [
        "url = \"https://hn.algolia.com/api/v1/search_by_date?tags=comment&hitsPerPage=5000&numericFilters=created_at_i>2019\""
      ],
      "execution_count": 59,
      "outputs": []
    },
    {
      "cell_type": "code",
      "metadata": {
        "id": "RqZxrvmXefU4",
        "colab_type": "code",
        "colab": {}
      },
      "source": [
        "req = requests.get(url)"
      ],
      "execution_count": 60,
      "outputs": []
    },
    {
      "cell_type": "code",
      "metadata": {
        "id": "hErSU_ljf8uy",
        "colab_type": "code",
        "colab": {}
      },
      "source": [
        "data = req.json()"
      ],
      "execution_count": 61,
      "outputs": []
    },
    {
      "cell_type": "code",
      "metadata": {
        "id": "xvPHs3uykJGs",
        "colab_type": "code",
        "colab": {}
      },
      "source": [
        "comments = data['hits']"
      ],
      "execution_count": 62,
      "outputs": []
    },
    {
      "cell_type": "code",
      "metadata": {
        "id": "Jc1axHlRpJE1",
        "colab_type": "code",
        "colab": {}
      },
      "source": [
        "with open('comm.json','w') as file2:\n",
        "  json.dump(comments,file2)"
      ],
      "execution_count": 77,
      "outputs": []
    },
    {
      "cell_type": "code",
      "metadata": {
        "id": "XSb-PofokLeO",
        "colab_type": "code",
        "colab": {
          "base_uri": "https://localhost:8080/",
          "height": 35
        },
        "outputId": "450ed594-91e1-4549-bed8-c473ae2405b2"
      },
      "source": [
        "len(comments)"
      ],
      "execution_count": 63,
      "outputs": [
        {
          "output_type": "execute_result",
          "data": {
            "text/plain": [
              "1000"
            ]
          },
          "metadata": {
            "tags": []
          },
          "execution_count": 63
        }
      ]
    },
    {
      "cell_type": "code",
      "metadata": {
        "id": "36geLqdKoIdP",
        "colab_type": "code",
        "colab": {
          "base_uri": "https://localhost:8080/",
          "height": 333
        },
        "outputId": "b4f71b10-7add-4bba-cead-110d629e0d4f"
      },
      "source": [
        "with open('data1.json', 'w') as outfile:\n",
        "    json.dump(req, outfile)"
      ],
      "execution_count": 72,
      "outputs": [
        {
          "output_type": "error",
          "ename": "TypeError",
          "evalue": "ignored",
          "traceback": [
            "\u001b[0;31m---------------------------------------------------------------------------\u001b[0m",
            "\u001b[0;31mTypeError\u001b[0m                                 Traceback (most recent call last)",
            "\u001b[0;32m<ipython-input-72-a3b6f0bc3c69>\u001b[0m in \u001b[0;36m<module>\u001b[0;34m()\u001b[0m\n\u001b[1;32m      1\u001b[0m \u001b[0;32mwith\u001b[0m \u001b[0mopen\u001b[0m\u001b[0;34m(\u001b[0m\u001b[0;34m'data1.json'\u001b[0m\u001b[0;34m,\u001b[0m \u001b[0;34m'w'\u001b[0m\u001b[0;34m)\u001b[0m \u001b[0;32mas\u001b[0m \u001b[0moutfile\u001b[0m\u001b[0;34m:\u001b[0m\u001b[0;34m\u001b[0m\u001b[0;34m\u001b[0m\u001b[0m\n\u001b[0;32m----> 2\u001b[0;31m     \u001b[0mjson\u001b[0m\u001b[0;34m.\u001b[0m\u001b[0mdump\u001b[0m\u001b[0;34m(\u001b[0m\u001b[0mreq\u001b[0m\u001b[0;34m,\u001b[0m \u001b[0moutfile\u001b[0m\u001b[0;34m)\u001b[0m\u001b[0;34m\u001b[0m\u001b[0;34m\u001b[0m\u001b[0m\n\u001b[0m",
            "\u001b[0;32m/usr/lib/python3.6/json/__init__.py\u001b[0m in \u001b[0;36mdump\u001b[0;34m(obj, fp, skipkeys, ensure_ascii, check_circular, allow_nan, cls, indent, separators, default, sort_keys, **kw)\u001b[0m\n\u001b[1;32m    177\u001b[0m     \u001b[0;31m# could accelerate with writelines in some versions of Python, at\u001b[0m\u001b[0;34m\u001b[0m\u001b[0;34m\u001b[0m\u001b[0;34m\u001b[0m\u001b[0m\n\u001b[1;32m    178\u001b[0m     \u001b[0;31m# a debuggability cost\u001b[0m\u001b[0;34m\u001b[0m\u001b[0;34m\u001b[0m\u001b[0;34m\u001b[0m\u001b[0m\n\u001b[0;32m--> 179\u001b[0;31m     \u001b[0;32mfor\u001b[0m \u001b[0mchunk\u001b[0m \u001b[0;32min\u001b[0m \u001b[0miterable\u001b[0m\u001b[0;34m:\u001b[0m\u001b[0;34m\u001b[0m\u001b[0;34m\u001b[0m\u001b[0m\n\u001b[0m\u001b[1;32m    180\u001b[0m         \u001b[0mfp\u001b[0m\u001b[0;34m.\u001b[0m\u001b[0mwrite\u001b[0m\u001b[0;34m(\u001b[0m\u001b[0mchunk\u001b[0m\u001b[0;34m)\u001b[0m\u001b[0;34m\u001b[0m\u001b[0;34m\u001b[0m\u001b[0m\n\u001b[1;32m    181\u001b[0m \u001b[0;34m\u001b[0m\u001b[0m\n",
            "\u001b[0;32m/usr/lib/python3.6/json/encoder.py\u001b[0m in \u001b[0;36m_iterencode\u001b[0;34m(o, _current_indent_level)\u001b[0m\n\u001b[1;32m    435\u001b[0m                     \u001b[0;32mraise\u001b[0m \u001b[0mValueError\u001b[0m\u001b[0;34m(\u001b[0m\u001b[0;34m\"Circular reference detected\"\u001b[0m\u001b[0;34m)\u001b[0m\u001b[0;34m\u001b[0m\u001b[0;34m\u001b[0m\u001b[0m\n\u001b[1;32m    436\u001b[0m                 \u001b[0mmarkers\u001b[0m\u001b[0;34m[\u001b[0m\u001b[0mmarkerid\u001b[0m\u001b[0;34m]\u001b[0m \u001b[0;34m=\u001b[0m \u001b[0mo\u001b[0m\u001b[0;34m\u001b[0m\u001b[0;34m\u001b[0m\u001b[0m\n\u001b[0;32m--> 437\u001b[0;31m             \u001b[0mo\u001b[0m \u001b[0;34m=\u001b[0m \u001b[0m_default\u001b[0m\u001b[0;34m(\u001b[0m\u001b[0mo\u001b[0m\u001b[0;34m)\u001b[0m\u001b[0;34m\u001b[0m\u001b[0;34m\u001b[0m\u001b[0m\n\u001b[0m\u001b[1;32m    438\u001b[0m             \u001b[0;32myield\u001b[0m \u001b[0;32mfrom\u001b[0m \u001b[0m_iterencode\u001b[0m\u001b[0;34m(\u001b[0m\u001b[0mo\u001b[0m\u001b[0;34m,\u001b[0m \u001b[0m_current_indent_level\u001b[0m\u001b[0;34m)\u001b[0m\u001b[0;34m\u001b[0m\u001b[0;34m\u001b[0m\u001b[0m\n\u001b[1;32m    439\u001b[0m             \u001b[0;32mif\u001b[0m \u001b[0mmarkers\u001b[0m \u001b[0;32mis\u001b[0m \u001b[0;32mnot\u001b[0m \u001b[0;32mNone\u001b[0m\u001b[0;34m:\u001b[0m\u001b[0;34m\u001b[0m\u001b[0;34m\u001b[0m\u001b[0m\n",
            "\u001b[0;32m/usr/lib/python3.6/json/encoder.py\u001b[0m in \u001b[0;36mdefault\u001b[0;34m(self, o)\u001b[0m\n\u001b[1;32m    178\u001b[0m         \"\"\"\n\u001b[1;32m    179\u001b[0m         raise TypeError(\"Object of type '%s' is not JSON serializable\" %\n\u001b[0;32m--> 180\u001b[0;31m                         o.__class__.__name__)\n\u001b[0m\u001b[1;32m    181\u001b[0m \u001b[0;34m\u001b[0m\u001b[0m\n\u001b[1;32m    182\u001b[0m     \u001b[0;32mdef\u001b[0m \u001b[0mencode\u001b[0m\u001b[0;34m(\u001b[0m\u001b[0mself\u001b[0m\u001b[0;34m,\u001b[0m \u001b[0mo\u001b[0m\u001b[0;34m)\u001b[0m\u001b[0;34m:\u001b[0m\u001b[0;34m\u001b[0m\u001b[0;34m\u001b[0m\u001b[0m\n",
            "\u001b[0;31mTypeError\u001b[0m: Object of type 'Response' is not JSON serializable"
          ]
        }
      ]
    },
    {
      "cell_type": "code",
      "metadata": {
        "id": "npA8WMb5nvS2",
        "colab_type": "code",
        "colab": {}
      },
      "source": [
        "df= pd.read_json('comm.json')"
      ],
      "execution_count": 78,
      "outputs": []
    },
    {
      "cell_type": "code",
      "metadata": {
        "id": "lgm4umvopArV",
        "colab_type": "code",
        "colab": {
          "base_uri": "https://localhost:8080/",
          "height": 1000
        },
        "outputId": "19e603e6-b913-4489-f490-51a594d0c116"
      },
      "source": [
        "df"
      ],
      "execution_count": 79,
      "outputs": [
        {
          "output_type": "execute_result",
          "data": {
            "text/html": [
              "<div>\n",
              "<style scoped>\n",
              "    .dataframe tbody tr th:only-of-type {\n",
              "        vertical-align: middle;\n",
              "    }\n",
              "\n",
              "    .dataframe tbody tr th {\n",
              "        vertical-align: top;\n",
              "    }\n",
              "\n",
              "    .dataframe thead th {\n",
              "        text-align: right;\n",
              "    }\n",
              "</style>\n",
              "<table border=\"1\" class=\"dataframe\">\n",
              "  <thead>\n",
              "    <tr style=\"text-align: right;\">\n",
              "      <th></th>\n",
              "      <th>created_at</th>\n",
              "      <th>title</th>\n",
              "      <th>url</th>\n",
              "      <th>author</th>\n",
              "      <th>points</th>\n",
              "      <th>story_text</th>\n",
              "      <th>comment_text</th>\n",
              "      <th>num_comments</th>\n",
              "      <th>story_id</th>\n",
              "      <th>story_title</th>\n",
              "      <th>story_url</th>\n",
              "      <th>parent_id</th>\n",
              "      <th>created_at_i</th>\n",
              "      <th>_tags</th>\n",
              "      <th>objectID</th>\n",
              "      <th>_highlightResult</th>\n",
              "    </tr>\n",
              "  </thead>\n",
              "  <tbody>\n",
              "    <tr>\n",
              "      <th>0</th>\n",
              "      <td>2020-08-24 17:53:38+00:00</td>\n",
              "      <td>NaN</td>\n",
              "      <td>NaN</td>\n",
              "      <td>jwilber</td>\n",
              "      <td>NaN</td>\n",
              "      <td>NaN</td>\n",
              "      <td>That makes more sense. I think it’s worth fram...</td>\n",
              "      <td>NaN</td>\n",
              "      <td>NaN</td>\n",
              "      <td>None</td>\n",
              "      <td>None</td>\n",
              "      <td>24258645</td>\n",
              "      <td>1598291618</td>\n",
              "      <td>[comment, author_jwilber, story_24263320]</td>\n",
              "      <td>24263320</td>\n",
              "      <td>{'author': {'value': 'jwilber', 'matchLevel': ...</td>\n",
              "    </tr>\n",
              "    <tr>\n",
              "      <th>1</th>\n",
              "      <td>2020-08-24 17:53:26+00:00</td>\n",
              "      <td>NaN</td>\n",
              "      <td>NaN</td>\n",
              "      <td>jancsika</td>\n",
              "      <td>NaN</td>\n",
              "      <td>NaN</td>\n",
              "      <td>&amp;gt; I get that I don&amp;#x27;t want a power plan...</td>\n",
              "      <td>NaN</td>\n",
              "      <td>NaN</td>\n",
              "      <td>None</td>\n",
              "      <td>None</td>\n",
              "      <td>24261788</td>\n",
              "      <td>1598291606</td>\n",
              "      <td>[comment, author_jancsika, story_24263317]</td>\n",
              "      <td>24263317</td>\n",
              "      <td>{'author': {'value': 'jancsika', 'matchLevel':...</td>\n",
              "    </tr>\n",
              "    <tr>\n",
              "      <th>2</th>\n",
              "      <td>2020-08-24 17:53:09+00:00</td>\n",
              "      <td>NaN</td>\n",
              "      <td>NaN</td>\n",
              "      <td>iso1631</td>\n",
              "      <td>NaN</td>\n",
              "      <td>NaN</td>\n",
              "      <td>The only reason I could think of to use someth...</td>\n",
              "      <td>NaN</td>\n",
              "      <td>24261435.0</td>\n",
              "      <td>UberEats could be underpaying delivery drivers...</td>\n",
              "      <td>https://www.businessinsider.com/uber-eats-driv...</td>\n",
              "      <td>24263057</td>\n",
              "      <td>1598291589</td>\n",
              "      <td>[comment, author_iso1631, story_24261435]</td>\n",
              "      <td>24263315</td>\n",
              "      <td>{'author': {'value': 'iso1631', 'matchLevel': ...</td>\n",
              "    </tr>\n",
              "    <tr>\n",
              "      <th>3</th>\n",
              "      <td>2020-08-24 17:53:09+00:00</td>\n",
              "      <td>NaN</td>\n",
              "      <td>NaN</td>\n",
              "      <td>michaelbuckbee</td>\n",
              "      <td>NaN</td>\n",
              "      <td>NaN</td>\n",
              "      <td>It&amp;#x27;s even larger than that as the other t...</td>\n",
              "      <td>NaN</td>\n",
              "      <td>24262406.0</td>\n",
              "      <td>Why Uber's business model is doomed</td>\n",
              "      <td>https://www.theguardian.com/commentisfree/2020...</td>\n",
              "      <td>24263032</td>\n",
              "      <td>1598291589</td>\n",
              "      <td>[comment, author_michaelbuckbee, story_24262406]</td>\n",
              "      <td>24263314</td>\n",
              "      <td>{'author': {'value': 'michaelbuckbee', 'matchL...</td>\n",
              "    </tr>\n",
              "    <tr>\n",
              "      <th>4</th>\n",
              "      <td>2020-08-24 17:53:00+00:00</td>\n",
              "      <td>NaN</td>\n",
              "      <td>NaN</td>\n",
              "      <td>oxymoran</td>\n",
              "      <td>NaN</td>\n",
              "      <td>NaN</td>\n",
              "      <td>Not all sunlight exposure works though. It nee...</td>\n",
              "      <td>NaN</td>\n",
              "      <td>24261948.0</td>\n",
              "      <td>Vitamin D, part 2: Shannon's story</td>\n",
              "      <td>https://www.devaboone.com/post/vitamin-d-part-...</td>\n",
              "      <td>24262689</td>\n",
              "      <td>1598291580</td>\n",
              "      <td>[comment, author_oxymoran, story_24261948]</td>\n",
              "      <td>24263313</td>\n",
              "      <td>{'author': {'value': 'oxymoran', 'matchLevel':...</td>\n",
              "    </tr>\n",
              "    <tr>\n",
              "      <th>...</th>\n",
              "      <td>...</td>\n",
              "      <td>...</td>\n",
              "      <td>...</td>\n",
              "      <td>...</td>\n",
              "      <td>...</td>\n",
              "      <td>...</td>\n",
              "      <td>...</td>\n",
              "      <td>...</td>\n",
              "      <td>...</td>\n",
              "      <td>...</td>\n",
              "      <td>...</td>\n",
              "      <td>...</td>\n",
              "      <td>...</td>\n",
              "      <td>...</td>\n",
              "      <td>...</td>\n",
              "      <td>...</td>\n",
              "    </tr>\n",
              "    <tr>\n",
              "      <th>995</th>\n",
              "      <td>2020-08-24 16:24:10+00:00</td>\n",
              "      <td>NaN</td>\n",
              "      <td>NaN</td>\n",
              "      <td>blablablerg</td>\n",
              "      <td>NaN</td>\n",
              "      <td>NaN</td>\n",
              "      <td>It must be right? Just like a mathematical opt...</td>\n",
              "      <td>NaN</td>\n",
              "      <td>24259916.0</td>\n",
              "      <td>Why Every City Feels the Same Now</td>\n",
              "      <td>https://www.theatlantic.com/technology/archive...</td>\n",
              "      <td>24260837</td>\n",
              "      <td>1598286250</td>\n",
              "      <td>[comment, author_blablablerg, story_24259916]</td>\n",
              "      <td>24262185</td>\n",
              "      <td>{'author': {'value': 'blablablerg', 'matchLeve...</td>\n",
              "    </tr>\n",
              "    <tr>\n",
              "      <th>996</th>\n",
              "      <td>2020-08-24 16:24:00+00:00</td>\n",
              "      <td>NaN</td>\n",
              "      <td>NaN</td>\n",
              "      <td>djur</td>\n",
              "      <td>NaN</td>\n",
              "      <td>NaN</td>\n",
              "      <td>Zoning laws and HOAs really aren&amp;#x27;t great ...</td>\n",
              "      <td>NaN</td>\n",
              "      <td>24259916.0</td>\n",
              "      <td>Why Every City Feels the Same Now</td>\n",
              "      <td>https://www.theatlantic.com/technology/archive...</td>\n",
              "      <td>24262093</td>\n",
              "      <td>1598286240</td>\n",
              "      <td>[comment, author_djur, story_24259916]</td>\n",
              "      <td>24262184</td>\n",
              "      <td>{'author': {'value': 'djur', 'matchLevel': 'no...</td>\n",
              "    </tr>\n",
              "    <tr>\n",
              "      <th>997</th>\n",
              "      <td>2020-08-24 16:23:56+00:00</td>\n",
              "      <td>NaN</td>\n",
              "      <td>NaN</td>\n",
              "      <td>shadowtree</td>\n",
              "      <td>NaN</td>\n",
              "      <td>NaN</td>\n",
              "      <td>Teams, due to super aggressive bundling with O...</td>\n",
              "      <td>NaN</td>\n",
              "      <td>24260269.0</td>\n",
              "      <td>Zoom Partial Outages</td>\n",
              "      <td>https://status.zoom.us/</td>\n",
              "      <td>24261253</td>\n",
              "      <td>1598286236</td>\n",
              "      <td>[comment, author_shadowtree, story_24260269]</td>\n",
              "      <td>24262183</td>\n",
              "      <td>{'author': {'value': 'shadowtree', 'matchLevel...</td>\n",
              "    </tr>\n",
              "    <tr>\n",
              "      <th>998</th>\n",
              "      <td>2020-08-24 16:23:54+00:00</td>\n",
              "      <td>NaN</td>\n",
              "      <td>NaN</td>\n",
              "      <td>suyjuris</td>\n",
              "      <td>NaN</td>\n",
              "      <td>NaN</td>\n",
              "      <td>I wrote a tool to visualise algorithms for bin...</td>\n",
              "      <td>NaN</td>\n",
              "      <td>24260337.0</td>\n",
              "      <td>Challenge to scientists: does your ten-year-ol...</td>\n",
              "      <td>https://www.nature.com/articles/d41586-020-024...</td>\n",
              "      <td>24260337</td>\n",
              "      <td>1598286234</td>\n",
              "      <td>[comment, author_suyjuris, story_24260337]</td>\n",
              "      <td>24262182</td>\n",
              "      <td>{'author': {'value': 'suyjuris', 'matchLevel':...</td>\n",
              "    </tr>\n",
              "    <tr>\n",
              "      <th>999</th>\n",
              "      <td>2020-08-24 16:23:42+00:00</td>\n",
              "      <td>NaN</td>\n",
              "      <td>NaN</td>\n",
              "      <td>jzb</td>\n",
              "      <td>NaN</td>\n",
              "      <td>NaN</td>\n",
              "      <td>The problem is that a ton of the people hit wi...</td>\n",
              "      <td>NaN</td>\n",
              "      <td>24260269.0</td>\n",
              "      <td>Zoom Partial Outages</td>\n",
              "      <td>https://status.zoom.us/</td>\n",
              "      <td>24260935</td>\n",
              "      <td>1598286222</td>\n",
              "      <td>[comment, author_jzb, story_24260269]</td>\n",
              "      <td>24262181</td>\n",
              "      <td>{'author': {'value': 'jzb', 'matchLevel': 'non...</td>\n",
              "    </tr>\n",
              "  </tbody>\n",
              "</table>\n",
              "<p>1000 rows × 16 columns</p>\n",
              "</div>"
            ],
            "text/plain": [
              "                   created_at  ...                                   _highlightResult\n",
              "0   2020-08-24 17:53:38+00:00  ...  {'author': {'value': 'jwilber', 'matchLevel': ...\n",
              "1   2020-08-24 17:53:26+00:00  ...  {'author': {'value': 'jancsika', 'matchLevel':...\n",
              "2   2020-08-24 17:53:09+00:00  ...  {'author': {'value': 'iso1631', 'matchLevel': ...\n",
              "3   2020-08-24 17:53:09+00:00  ...  {'author': {'value': 'michaelbuckbee', 'matchL...\n",
              "4   2020-08-24 17:53:00+00:00  ...  {'author': {'value': 'oxymoran', 'matchLevel':...\n",
              "..                        ...  ...                                                ...\n",
              "995 2020-08-24 16:24:10+00:00  ...  {'author': {'value': 'blablablerg', 'matchLeve...\n",
              "996 2020-08-24 16:24:00+00:00  ...  {'author': {'value': 'djur', 'matchLevel': 'no...\n",
              "997 2020-08-24 16:23:56+00:00  ...  {'author': {'value': 'shadowtree', 'matchLevel...\n",
              "998 2020-08-24 16:23:54+00:00  ...  {'author': {'value': 'suyjuris', 'matchLevel':...\n",
              "999 2020-08-24 16:23:42+00:00  ...  {'author': {'value': 'jzb', 'matchLevel': 'non...\n",
              "\n",
              "[1000 rows x 16 columns]"
            ]
          },
          "metadata": {
            "tags": []
          },
          "execution_count": 79
        }
      ]
    },
    {
      "cell_type": "code",
      "metadata": {
        "id": "k2wQU1g0pbo5",
        "colab_type": "code",
        "colab": {
          "base_uri": "https://localhost:8080/",
          "height": 35
        },
        "outputId": "1275f372-aca0-4c61-a84e-4d15d8ff9c0d"
      },
      "source": [
        "df.shape"
      ],
      "execution_count": 80,
      "outputs": [
        {
          "output_type": "execute_result",
          "data": {
            "text/plain": [
              "(1000, 16)"
            ]
          },
          "metadata": {
            "tags": []
          },
          "execution_count": 80
        }
      ]
    },
    {
      "cell_type": "code",
      "metadata": {
        "id": "kAQqjTw8qZ1e",
        "colab_type": "code",
        "colab": {}
      },
      "source": [
        "df.to_csv('comments1k.csv',index=False)"
      ],
      "execution_count": 81,
      "outputs": []
    }
  ]
}